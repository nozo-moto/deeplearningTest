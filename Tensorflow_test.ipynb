{
 "cells": [
  {
   "cell_type": "code",
   "execution_count": 8,
   "metadata": {},
   "outputs": [],
   "source": [
    "from tensorflow.examples.tutorials.mnist import input_data"
   ]
  },
  {
   "cell_type": "code",
   "execution_count": 9,
   "metadata": {},
   "outputs": [
    {
     "name": "stdout",
     "output_type": "stream",
     "text": [
      "Extracting MNIST_data/train-images-idx3-ubyte.gz\n",
      "Extracting MNIST_data/train-labels-idx1-ubyte.gz\n",
      "Extracting MNIST_data/t10k-images-idx3-ubyte.gz\n",
      "Extracting MNIST_data/t10k-labels-idx1-ubyte.gz\n"
     ]
    }
   ],
   "source": [
    "mnist = input_data.read_data_sets(\"MNIST_data/\", one_hot=True)"
   ]
  },
  {
   "cell_type": "code",
   "execution_count": 10,
   "metadata": {},
   "outputs": [
    {
     "name": "stdout",
     "output_type": "stream",
     "text": [
      "WARNING:tensorflow:From <ipython-input-10-527fa06b49dd>:24: initialize_all_variables (from tensorflow.python.ops.variables) is deprecated and will be removed after 2017-03-02.\n",
      "Instructions for updating:\n",
      "Use `tf.global_variables_initializer` instead.\n"
     ]
    }
   ],
   "source": [
    "# TensorFlow を読み込み\n",
    "import tensorflow as tf\n",
    " \n",
    "# 入力データ格納用の 784 px 分のプレースホルダを作成\n",
    "x = tf.placeholder(tf.float32, [None, 784])\n",
    " \n",
    "# 重み (784 x 10 の行列) の Variable を定義\n",
    "W = tf.Variable(tf.zeros([784, 10]))\n",
    " \n",
    "# バイアス (長さ 10 の行列) の Variable を定義\n",
    "b = tf.Variable(tf.zeros([10]))\n",
    " \n",
    "# ソフトマックス回帰による予測式を定義\n",
    "y = tf.nn.softmax(tf.matmul(x, W) + b)\n",
    " \n",
    "# 出力データ (予測値) 格納用のプレースホルダ\n",
    "y_ = tf.placeholder(tf.float32, [None, 10])\n",
    " \n",
    "# 交差エントロピーを最小化するよう、学習を行う式を以下のように定義\n",
    "cross_entropy = tf.reduce_mean(-tf.reduce_sum(y_ * tf.log(y), reduction_indices=[1]))\n",
    "train_step = tf.train.GradientDescentOptimizer(0.5).minimize(cross_entropy)\n",
    " \n",
    "# 初期化\n",
    "init = tf.initialize_all_variables()\n",
    "sess = tf.Session()\n",
    "sess.run(init)\n",
    " \n",
    "# 学習を 1,000 回繰り返す\n",
    "for i in range(1000):\n",
    "  # 訓練用データから 100 件取得\n",
    "  batch_xs, batch_ys = mnist.train.next_batch(100)\n",
    "  # train_step を実行\n",
    "  sess.run(train_step, feed_dict={x: batch_xs, y_: batch_ys})"
   ]
  },
  {
   "cell_type": "code",
   "execution_count": 11,
   "metadata": {},
   "outputs": [
    {
     "name": "stdout",
     "output_type": "stream",
     "text": [
      "0.9209\n"
     ]
    }
   ],
   "source": [
    "# 　実際の値と予測された値が同じであるか確認\n",
    "correct_prediction = tf.equal(tf.argmax(y,1), tf.argmax(y_,1))\n",
    " \n",
    "# 平均値を求め、予測精度を求める\n",
    "accuracy = tf.reduce_mean(tf.cast(correct_prediction, tf.float32))\n",
    " \n",
    "# x にテストデータ、y_ に実際の値をあてはめ、上記で作成した式を実行\n",
    "print(sess.run(accuracy, feed_dict={x: mnist.test.images, y_: mnist.test.labels}))"
   ]
  },
  {
   "cell_type": "code",
   "execution_count": null,
   "metadata": {
    "collapsed": true
   },
   "outputs": [],
   "source": []
  }
 ],
 "metadata": {
  "kernelspec": {
   "display_name": "Python 3",
   "language": "python",
   "name": "python3"
  },
  "language_info": {
   "codemirror_mode": {
    "name": "ipython",
    "version": 3
   },
   "file_extension": ".py",
   "mimetype": "text/x-python",
   "name": "python",
   "nbconvert_exporter": "python",
   "pygments_lexer": "ipython3",
   "version": "3.6.1"
  }
 },
 "nbformat": 4,
 "nbformat_minor": 2
}
